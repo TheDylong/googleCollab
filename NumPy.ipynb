{
  "nbformat": 4,
  "nbformat_minor": 0,
  "metadata": {
    "colab": {
      "provenance": [],
      "toc_visible": true,
      "authorship_tag": "ABX9TyPxyAAGl5rcfECD8oZKzMuY",
      "include_colab_link": true
    },
    "kernelspec": {
      "name": "python3",
      "display_name": "Python 3"
    },
    "language_info": {
      "name": "python"
    }
  },
  "cells": [
    {
      "cell_type": "markdown",
      "metadata": {
        "id": "view-in-github",
        "colab_type": "text"
      },
      "source": [
        "<a href=\"https://colab.research.google.com/github/TheDylong/googleCollab/blob/main/NumPy.ipynb\" target=\"_parent\"><img src=\"https://colab.research.google.com/assets/colab-badge.svg\" alt=\"Open In Colab\"/></a>"
      ]
    },
    {
      "cell_type": "markdown",
      "source": [
        "# NumPy\n",
        "\n"
      ],
      "metadata": {
        "id": "JeHjY34hoZQy"
      }
    },
    {
      "cell_type": "code",
      "execution_count": null,
      "metadata": {
        "id": "joLM7iktoUbx"
      },
      "outputs": [],
      "source": [
        "# instalacja\n",
        "pip install numpy"
      ]
    },
    {
      "cell_type": "markdown",
      "source": [
        "\n",
        "\n",
        "---\n",
        "\n",
        "\n",
        "SPIS TREŚCI:\n",
        "\n",
        "1. Podstawy\n",
        "2. Typy danych\n",
        "3. Tworzenie tablic\n",
        "\n",
        "\n",
        "---\n",
        "\n",
        "\n",
        "\n"
      ],
      "metadata": {
        "id": "z0822xnW5QaA"
      }
    },
    {
      "cell_type": "code",
      "source": [
        "# import numpy\n",
        "import numpy as np\n",
        "\n",
        "np.__version__"
      ],
      "metadata": {
        "id": "7G2lt0Cmox-J"
      },
      "execution_count": null,
      "outputs": []
    },
    {
      "cell_type": "code",
      "source": [
        "# wyświetla dostępne metody\n",
        "\n",
        "dir(np)"
      ],
      "metadata": {
        "id": "T56vAwjD5poe"
      },
      "execution_count": null,
      "outputs": []
    },
    {
      "cell_type": "code",
      "source": [
        "# Funkcja array\n",
        "\n",
        "help(np.array)    # wyświetlenie pomocy"
      ],
      "metadata": {
        "id": "FHEdJVTN50tV"
      },
      "execution_count": null,
      "outputs": []
    },
    {
      "cell_type": "code",
      "source": [
        "# utworzenie tablicy 1D\n",
        "\n",
        "x = np.array([1, 2, 3, 4, 5])\n",
        "x\n",
        "print(x)\n",
        "type(x)"
      ],
      "metadata": {
        "colab": {
          "base_uri": "https://localhost:8080/"
        },
        "id": "ptdS3zS86www",
        "outputId": "b7074135-1499-4bb8-c6ac-f220a341ca81"
      },
      "execution_count": 7,
      "outputs": [
        {
          "output_type": "stream",
          "name": "stdout",
          "text": [
            "[1 2 3 4 5]\n"
          ]
        },
        {
          "output_type": "execute_result",
          "data": {
            "text/plain": [
              "numpy.ndarray"
            ]
          },
          "metadata": {},
          "execution_count": 7
        }
      ]
    },
    {
      "cell_type": "code",
      "source": [
        "x.ndim    # informacja o wymiarowości macierzy (array -> macierz)\n",
        "x.shape   # zwraca ostatnią wartość\n",
        "x.size    # zwraca liczbę elementów w tablicy\n",
        "x.dtype   # zwraca typ obiektu"
      ],
      "metadata": {
        "colab": {
          "base_uri": "https://localhost:8080/"
        },
        "id": "FT9rECIT7RbM",
        "outputId": "4024535a-9840-4ce3-ec06-f041ce85a1a1"
      },
      "execution_count": 14,
      "outputs": [
        {
          "output_type": "execute_result",
          "data": {
            "text/plain": [
              "dtype('int64')"
            ]
          },
          "metadata": {},
          "execution_count": 14
        }
      ]
    },
    {
      "cell_type": "code",
      "source": [
        "# utworzenie macierzy 2 wymiarowej (2D)\n",
        "\n",
        "y = np.array([[1, 2], [-3, 1]])"
      ],
      "metadata": {
        "id": "CJJXeQNe8Dsw"
      },
      "execution_count": 16,
      "outputs": []
    },
    {
      "cell_type": "code",
      "source": [
        "y.ndim"
      ],
      "metadata": {
        "colab": {
          "base_uri": "https://localhost:8080/"
        },
        "id": "ohcEbFVu8fG5",
        "outputId": "9664459f-53ae-4cb3-a83b-b5590b34c1f6"
      },
      "execution_count": 17,
      "outputs": [
        {
          "output_type": "execute_result",
          "data": {
            "text/plain": [
              "2"
            ]
          },
          "metadata": {},
          "execution_count": 17
        }
      ]
    },
    {
      "cell_type": "code",
      "source": [
        "y.shape"
      ],
      "metadata": {
        "colab": {
          "base_uri": "https://localhost:8080/"
        },
        "id": "z22gfxu98mHu",
        "outputId": "c058b2c8-0fca-4cab-e1bd-ebd5961e79ae"
      },
      "execution_count": 18,
      "outputs": [
        {
          "output_type": "execute_result",
          "data": {
            "text/plain": [
              "(2, 2)"
            ]
          },
          "metadata": {},
          "execution_count": 18
        }
      ]
    },
    {
      "cell_type": "code",
      "source": [
        "y.dtype"
      ],
      "metadata": {
        "colab": {
          "base_uri": "https://localhost:8080/"
        },
        "id": "tcgUZLWy8oKO",
        "outputId": "5798e73d-0c95-41c2-f007-94358121247d"
      },
      "execution_count": 19,
      "outputs": [
        {
          "output_type": "execute_result",
          "data": {
            "text/plain": [
              "dtype('int64')"
            ]
          },
          "metadata": {},
          "execution_count": 19
        }
      ]
    },
    {
      "cell_type": "code",
      "source": [
        "# 13.16 wideo - tam skończyłem"
      ],
      "metadata": {
        "id": "bq5mA9UN8qpb"
      },
      "execution_count": null,
      "outputs": []
    }
  ]
}