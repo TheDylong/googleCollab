{
  "nbformat": 4,
  "nbformat_minor": 0,
  "metadata": {
    "colab": {
      "provenance": [],
      "toc_visible": true,
      "mount_file_id": "1PV0Hxhcb4HNX6SV9J6b_5TSqEbdkIOh1",
      "authorship_tag": "ABX9TyOptlCa3ArObWrnZQbaMOOy",
      "include_colab_link": true
    },
    "kernelspec": {
      "name": "python3",
      "display_name": "Python 3"
    },
    "language_info": {
      "name": "python"
    }
  },
  "cells": [
    {
      "cell_type": "markdown",
      "metadata": {
        "id": "view-in-github",
        "colab_type": "text"
      },
      "source": [
        "<a href=\"https://colab.research.google.com/github/TheDylong/googleCollab/blob/main/Python.ipynb\" target=\"_parent\"><img src=\"https://colab.research.google.com/assets/colab-badge.svg\" alt=\"Open In Colab\"/></a>"
      ]
    },
    {
      "cell_type": "markdown",
      "source": [
        "# Konwencja nazewnicza"
      ],
      "metadata": {
        "id": "RRW_irDEODem"
      }
    },
    {
      "cell_type": "code",
      "execution_count": null,
      "metadata": {
        "id": "FqQS_oR1WbsB"
      },
      "outputs": [],
      "source": [
        "# zmienne piszemy z małej litery, np.:\n",
        "name = 'Peter'\n",
        "_name = 'Jhon'\n",
        "\n",
        "# używamy mnemomicznych nazw zmiennych, aby łatwiej rozumieć kod, np.:\n",
        "hours_worked = 8\n",
        "hour_wage = 20\n",
        "daily_wahe = hours_worked * hour_wage\n",
        "\n",
        "# style pisania camelCase, PascalCase, snake_case, kebab-case itd. itp\n",
        "camelCase = 'Python'\n",
        "PascalCase  = 'Python'        # używamy do nazewnictwa klas\n",
        "snake_case  = 'Python'        # używamy do nazewnictwa metod i zmiennych\n",
        "kebab-case  = 'Python'\n",
        "UPPER  = 'Python'             # do przechowywania stałych\n",
        "\n",
        "# nazwy zarezerwowane dla Pythona, np.:\n",
        "\n",
        "import keyword\n",
        "keyword.kwlist                # zwraca wszystkie nazwy, których nie można używać\n",
        "                              # do nazywania zmiennych"
      ]
    },
    {
      "cell_type": "markdown",
      "source": [
        "# String slicing [operator wycinania]"
      ],
      "metadata": {
        "id": "dTSWb2W0xtnC"
      }
    },
    {
      "cell_type": "code",
      "source": [
        "# wycinanmy z tekstu poszczególne elementy\n",
        "# przy pomocy indeksów zawsze zaczynamy od [0]\n",
        "name = 'Python'\n",
        "print(name[0])\n",
        "\n",
        "# wycinanie od 'końca' zaczynamy od [-1]\n",
        "print(name[-1])\n",
        "\n",
        "# wycinanie ciąg znaków od - do\n",
        "# name[0:n] - od 1 znaku kolejne n\n",
        "# name[1:4] - od 2 znaku kolejne 4\n",
        "# name[2:]  - od 2 znaku do końca\n",
        "# name[::2] - od początku co drugi znak\n",
        "\n",
        "print(name[0:2]) # zwróci Py\n",
        "print(name[0:3]) # zwróci Pyt\n",
        "print(name[1:4]) # zwróci yth\n",
        "print(name[2:])  # zwróci thon\n",
        "print(name[:])   # zwróci Python"
      ],
      "metadata": {
        "id": "4dxhgt4uwY0N"
      },
      "execution_count": null,
      "outputs": []
    },
    {
      "cell_type": "markdown",
      "source": [
        "# Typy danych"
      ],
      "metadata": {
        "id": "yb2xHyYYx207"
      }
    },
    {
      "cell_type": "code",
      "source": [
        "# string - tekst\n",
        "string = 'tekst'\n",
        "type(string)\n",
        "\n",
        "# int - integer - liczba całkowita\n",
        "number = 15\n",
        "type(number)\n",
        "\n",
        "# zmienno-przecinkowe (float)\n",
        "float_number = 15.65\n",
        "type(float_number)\n",
        "\n",
        "# liczby zespolone (complex)\n",
        "complex_number = 3 + 3j\n",
        "type(complex_number)\n",
        "\n",
        "# Logika boole-owska\n",
        "bolean = True\n",
        "type(bolean)\n"
      ],
      "metadata": {
        "id": "GW8OIFzzxwjG"
      },
      "execution_count": null,
      "outputs": []
    },
    {
      "cell_type": "markdown",
      "source": [
        "# Dane tekstowe i metody (na obiektach typu string)"
      ],
      "metadata": {
        "id": "pLF5y9eAx8RO"
      }
    },
    {
      "cell_type": "code",
      "source": [
        "text = 'przykładowe zdanie'\n",
        "\n",
        "# zwraca dostępne metody dla zmiennej text\n",
        "dir(text)\n",
        "\n",
        "# opis metody (pomoc)\n",
        "help(str.count)\n",
        "\n",
        "# przykładowe metody dla obiektów typu string\n",
        "print(text.capitalize())          # rozpoczyna string z dużej litery\n",
        "print(text.title())               # każde słowo w stringu z dużej litery\n",
        "print(text.count('zdanie'))       # zlicza ile danych ciągów znaków jest\n",
        "                                  # zapisanych w zmniennych (NoneType)\n",
        "print(text.startswith('p'))       # zwraca wartość True or False\n",
        "print('python'.startswith('py'))\n",
        "print(text.endswith('e'))         # zwraca True or False\n",
        "                                  # przydatne do weryfikacji czy np.:\n",
        "                                  # dane pliki mają rozszerzenie .py\n",
        "print(text.find('przykładowe'))   # zwraca nr indeksu, od którego\n",
        "                                  # zaczyna się dane słowo\n",
        "\n",
        "# metody przydatne do walidacji danych wejściowych podawanych przez użytkownika\n",
        "print(text.isalnum())\n",
        "print(text.isdigit())\n",
        "print(text.islower())\n",
        "print(text.isupper())\n",
        "\n",
        "# łączenie ciągów znaków przekazanych w formie listy\n",
        "print(' '.join(['python', '3.11']))  # łączenie z ' '\n",
        "print('#'.join(['python', '3.11']))  # łączenie z '#'\n",
        "print(','.join(['python', '3.11']))  # łączenie z ',' Comma Separeted Value (CSV)\n",
        "\n",
        "# zamienianie ciągów znaków\n",
        "print('#python#learning'.replace('#', ' '))\n",
        "print('column name'.replace(' ', '_'))\n",
        "\n",
        "# wycinanie białych znaków\n",
        "print('  python  ')\n",
        "print('  python  '.strip())\n",
        "print('  python   '.rstrip())\n",
        "print('  python   '.lstrip())\n",
        "print('#python#learning'.replace('#', ' ').lstrip())\n",
        "\n",
        "# rozdzielanie znakiem przedziału, zwraca listę\n",
        "print('1,2,3,4,5'.split(','))\n"
      ],
      "metadata": {
        "id": "4_ZzYtU65PSv"
      },
      "execution_count": null,
      "outputs": []
    },
    {
      "cell_type": "markdown",
      "source": [
        "# Zbiory w języku python"
      ],
      "metadata": {
        "id": "kOqk5-Qfx_Y2"
      }
    },
    {
      "cell_type": "code",
      "source": [
        "# zbiory to struktura danych, która przechowuje nieuporządkowany ciąg elementów\n",
        "# wartości pojawiające się w zbiorze są niezduplikowane\n",
        "\n",
        "# zdefiniowanie pustego wzoru oraz sprawdzenie jego typu\n",
        "empty_set = set()\n",
        "print(empty_set)\n",
        "print(type(empty_set))\n",
        "\n",
        "# zdefiniowanej zmiennej zawierającej zbiór oraz sprawdzenie typu zmiennej\n",
        "programming_languages = {'python', 'java', 'c++'}\n",
        "print(programming_languages)\n",
        "print(type(programming_languages))\n",
        "\n",
        "# zwraca długośc zbioru (funkcja len) [ile ma elementów]\n",
        "print(len(programming_languages))\n",
        "\n",
        "# generowanie zbiorów przy użyciu set()\n",
        "print(set('python'))        # każdy 'python' znak jest osobnym elementem zbioru\n",
        "print(set('pythonpython'))  # nieduplikuje znaków w zbiorze\n",
        "\n",
        "# iteracja po zbiorze (True/False)\n",
        "print('python' in programming_languages)\n",
        "print('go' in programming_languages)\n",
        "\n",
        "# dodawanie elementu do zbioru\n",
        "programming_languages.add('go')\n",
        "print(programming_languages)\n",
        "\n",
        "# usuwanie elementu ze zbioru\n",
        "programming_languages.remove('go')\n",
        "print(programming_languages)\n",
        "\n",
        "# usunięcie jednego elementu ze zbioru (dowolnego)\n",
        "programming_languages.pop()\n",
        "print(programming_languages)\n",
        "\n",
        "# wyczyszczenie zbioru\n",
        "programming_languages.clear()\n",
        "print(programming_languages)\n",
        "\n",
        "# suma zbiorów\n",
        "numeric_set_A = {1, 2, 3, 4, 5, 6, 7}\n",
        "numeric_set_B = {5, 6, 7, 8, 9}\n",
        "numeric_set_C = {5, 6}\n",
        "\n",
        "# sprawdzenie czy zbiór C zawiera się w zbiorze A (True/False)\n",
        "print(numeric_set_C.issubset(numeric_set_A))\n",
        "\n",
        "# sprawdzenie czy zbiór A jest nadzbiorem zbioru C/B (True/False)\n",
        "print(numeric_set_A.issuperset(numeric_set_B))\n",
        "\n",
        "# suma zbiorów\n",
        "print(numeric_set_A.union(numeric_set_B))\n",
        "\n",
        "# przecięcie zbiorów A i B\n",
        "print(numeric_set_A.intersection(numeric_set_B))\n",
        "\n",
        "# różnica symetryczna zbiorów A i B\n",
        "print(numeric_set_A.symmetric_difference(numeric_set_B))\n",
        "\n",
        "# kopiowanie zbioru\n",
        "numeric_set_D = numeric_set_A.copy()\n",
        "print(numeric_set_D)\n"
      ],
      "metadata": {
        "id": "UmC2CzefOT83"
      },
      "execution_count": null,
      "outputs": []
    },
    {
      "cell_type": "markdown",
      "source": [
        "# Tuple"
      ],
      "metadata": {
        "id": "aQpnjnE3yCZz"
      }
    },
    {
      "cell_type": "markdown",
      "source": [
        "Różnice pomiędzy tuplami, a listami\n",
        "\n",
        "1. Mutowalność (Mutalibity): tuple w języku python są niemutowalne\n",
        "(niezmienialne). Raz utworzone nie mogą zostać zmienione. Z kolei listy zą mutowalne (zmienialne), na listach mozna dokonywać szeregów zmian\n",
        "\n",
        "2. Składnia: tuple są definiowane nawiasami okrągłymi () lub bez, przedzielone przecinkami. Listy są definiowane nawiasami kwadratowymi []\n",
        "\n",
        "*   my_tuple = (1, 2, 3)\n",
        "*   my_tuple = 1, 2, 3\n",
        "*   my_list = [1, 2, 3]\n",
        "\n",
        "3. Zastosowanie: Tuple są używane do przechowywania kolekcji elementów, które nie powinny być zmieniane (np.: rekordy baz danych lub argumenty funkcji). Zapewniają niezmienialność i mogą być używane jako klucze słowników. Listy są do przechowywania wartości, na których będziemy pracować i mogą być zmieniane dynamicznie.\n",
        "\n",
        "4. Osiągi: tuple sa bardziej wydajne od list, ponieważ potrzebują mniej pamięci.\n",
        "Natomiast kiedy przychodzi do modyfikowania struktury (np.: dodawanie, usuwanie elementów) listy są szybsze\n",
        "\n",
        "Podsumowując: tuple są niemutowalne, definiowane () lub \",\" , a listy są mutowalne i definiowane []. Tuple są przydatne do przechowywania stałego danych (np.: już przetworzonych), a listy są lepsze do przeprowadzania operacji na danych."
      ],
      "metadata": {
        "id": "MUTsRo9l0jGZ"
      }
    },
    {
      "cell_type": "code",
      "source": [
        "# uporządkowana struktura, której nie można zmieniać\n",
        "\n",
        "# pusta tupla\n",
        "empty_tuple = tuple()\n",
        "print(empty_tuple)\n",
        "\n",
        "# przykładowe tuple\n",
        "bitcoin = ('Bitcoin', 'BTC', 26000)\n",
        "etherum = ('Etherum', 'ETH', 7000)\n",
        "\n",
        "\n",
        "# indeksowanie tupli i przypisanie do zmiennych poszczególnych elementów\n",
        "\n",
        "currency_name = bitcoin[0]\n",
        "currency_name_abbreviation = bitcoin[1]\n",
        "currency_price = bitcoin[2]\n",
        "print(\"Name: {}\\nAbbreviation: {}\\nPrice: {}\".format(currency_name,\n",
        "                                                     currency_name_abbreviation,\n",
        "                                                     currency_price))\n",
        "\n",
        "# zagnieżdżanie tupli\n",
        "data = (bitcoin, etherum)\n",
        "print(data)\n",
        "print(data[0])\n",
        "print(data[1])\n",
        "\n",
        "nested = 'Europa', 'Polska', ('Warszawa', 'Kraków', 'Wrocław')\n",
        "print(nested)\n",
        "\n",
        "# deklaracja wielu tupli w jednej linii\n",
        "id, name, surname = ('001', 'Jhon', 'Doe')\n",
        "print(id)\n",
        "print(name)\n",
        "print(surname)\n",
        "\n",
        "# zmiana wartości zmiennych\n",
        "a, b = 10, 15\n",
        "print(a, b)\n",
        "a, b = b, a\n",
        "print(a, b)\n"
      ],
      "metadata": {
        "id": "MoR1shcNyHA0"
      },
      "execution_count": null,
      "outputs": []
    },
    {
      "cell_type": "markdown",
      "source": [
        "# Listy"
      ],
      "metadata": {
        "id": "jN_q9X32Ret9"
      }
    },
    {
      "cell_type": "markdown",
      "source": [
        "Listy to uporządkowana, zmienialna struktura danych, która może posiadać zdublowane elementy"
      ],
      "metadata": {
        "id": "JDV0e4siRiMk"
      }
    },
    {
      "cell_type": "code",
      "source": [
        "# zdefiniowanie pustej listy\n",
        "empty_list = []\n",
        "print(type(empty_list))\n",
        "\n",
        "# przykładowa lista\n",
        "programming_languages = ['python', 'java', 'C++', 'C#', 'go']\n",
        "numbers = [0, 3, 3, 4, 10, 5]\n",
        "mixed = ['python', 3.11, 'java', 11, True]\n",
        "\n",
        "# zmiana wartości listy\n",
        "programming_languages[0] = 'python 3.11'\n",
        "\n",
        "# zagnieżdżanie listy\n",
        "nested_list = [programming_languages, numbers, mixed]\n",
        "print(nested_list)\n",
        "\n",
        "# łączenie list\n",
        "programming_languages = ['python', 'java', 'C++', 'C#', 'go']\n",
        "programming_languages += ['javascript']\n",
        "print(programming_languages)\n",
        "\n",
        "# metody dla list\n",
        "#print(dir(list))\n",
        "\n",
        "# wycinanie elementów z listy\n",
        "# lista[index_start:index_stop] (lewostronnie domknięte)\n",
        "# lista[index]  -> wycina konkretny index\n",
        "# lista[start:] -> od indexu start do końca listy\n",
        "# lista[:stop]  -> od początku listy do indexu stop\n",
        "# lista[::step] -> od początku co step\n",
        "\n",
        "my_list = [0, 1, 2, 3, 4, 5, 6, 7, 8, 9]\n",
        "\n",
        "# Wytnij index 2 do 5\n",
        "slice_1 = my_list[2:5]\n",
        "print(slice_1)  # Wynik: [2, 3, 4]\n",
        "\n",
        "# Wytnij od indexu 3 do końca\n",
        "slice_2 = my_list[3:]\n",
        "print(slice_2)  # Wynik: [3, 4, 5, 6, 7, 8, 9]\n",
        "\n",
        "# Wytnij od początku listy do indexu 6 co 2 element\n",
        "slice_3 = my_list[:6:2]\n",
        "print(slice_3)  # Wynik: [0, 2, 4]\n",
        "\n",
        "# Odwróc kolejność listy\n",
        "reverse_slice = my_list[::-1]\n",
        "print(reverse_slice)  # Wynik: [9, 8, 7, 6, 5, 4, 3, 2, 1, 0]\n",
        "\n",
        "# Metody - listy\n",
        "my_list = [1, 2, 3, 4, 5]\n",
        "\n",
        "# Append\n",
        "my_list.append(6)\n",
        "print(my_list)  # Wynik: [1, 2, 3, 4, 5, 6]\n",
        "\n",
        "# Extend\n",
        "my_list.extend([7, 8, 9])\n",
        "print(my_list)  # Wynik: [1, 2, 3, 4, 5, 6, 7, 8, 9]\n",
        "\n",
        "# Insert\n",
        "my_list.insert(3, 10)\n",
        "print(my_list)  # Wynik: [1, 2, 3, 10, 4, 5, 6, 7, 8, 9]\n",
        "\n",
        "# Remove\n",
        "my_list.remove(4)\n",
        "print(my_list)  # Wynik: [1, 2, 3, 10, 5, 6, 7, 8, 9]\n",
        "\n",
        "# Pop\n",
        "popped_element = my_list.pop(5)\n",
        "print(popped_element)  # Wynik: 6\n",
        "print(my_list)  # Wynik: [1, 2, 3, 10, 5, 7, 8, 9]\n",
        "\n",
        "# Index\n",
        "index = my_list.index(10)\n",
        "print(index)  # Wynik: 3\n",
        "\n",
        "# Count\n",
        "count = my_list.count(5)\n",
        "print(count)  # Wynik: 1\n",
        "\n",
        "# Sort\n",
        "my_list.sort()\n",
        "print(my_list)  # Wynik: [1, 2, 3, 5, 7, 8, 9, 10]\n",
        "\n",
        "# Reverse sort\n",
        "my_list.reverse()\n",
        "print(my_list)  # Wynik: [10, 9, 8, 7, 5, 3, 2, 1]\n",
        "\n",
        "# Copy\n",
        "copy_of_list = my_list.copy()\n",
        "print(copy_of_list)  # Wynik: [10, 9, 8, 7, 5, 3, 2, 1]\n",
        "\n",
        "# Clear\n",
        "my_list.clear()\n",
        "print(my_list)  # Wynik: []\n"
      ],
      "metadata": {
        "id": "DF40CvHCRhbj"
      },
      "execution_count": null,
      "outputs": []
    },
    {
      "cell_type": "markdown",
      "source": [
        "# Słowniki"
      ],
      "metadata": {
        "id": "UlQASz9KHZDj"
      }
    },
    {
      "cell_type": "code",
      "source": [
        "# Słownik w Pythonie jest to wbudowany typ danych, która umożliwia przechowywanie\n",
        "# danych jako <klucz: wartość>. Słowniki są mutowalne, nieuporządkowane i\n",
        "# iterowalne. Każdy klucz w zbiorze musi być unikalny i jest wykorzystywany do\n",
        "# dostępu skojarzonej z kluczem wartości.\n",
        "\n",
        "# deklaracja pustego słownika\n",
        "my_dict = {}\n",
        "my_dict = {'key1': 'value1', 'key2': 'value2', 'key3': 'value3'}\n",
        "\n",
        "# Dostęp do wartości przechowywanej wraz z kluczem\n",
        "\n",
        "# jeżeli klucz nie jest dostępny to otrzymamy 'KeyError'. Używając dostępu\n",
        "# do wartości z wykorzystaniem metody .get(klucz) zwróci nam 'None' jeżeli\n",
        "# klucz nie zostanie odnaleziony\n",
        "\n",
        "value = my_dict['key2']\n",
        "value_2 = my_dict.get('key1')\n",
        "print(value)\n",
        "print(value_2)\n",
        "\n",
        "# Modyfikacja wartości przypisanej do klucza\n",
        "my_dict['key1'] = 'new_value'\n",
        "\n",
        "# Dodawanie, update-owanie, par klucz:wartość\n",
        "my_dict['key4'] = 'value4'\n",
        "print(my_dict)\n",
        "my_dict.update({'key5': 'value5', 'key6': 'value6'})\n",
        "print(my_dict)\n",
        "\n",
        "# usuwanie par klucz: wartość\n",
        "del my_dict['key1']\n",
        "my_dict.pop('key2')\n",
        "my_dict.clear()\n",
        "\n",
        "# sprawdzemoe czy klucz istnieje w słowniku\n",
        "my_dict = {'key1': 'value1', 'key2': 'value2', 'key3': 'value3'}\n",
        "if 'key1' in my_dict:\n",
        "  print(my_dict['key1'])\n",
        "\n",
        "# iteracja po słowniku\n",
        "for key in my_dict:\n",
        "    value = my_dict[key]\n",
        "\n",
        "for key, value in my_dict.items():\n",
        "  print(key)\n",
        "  print(value)\n"
      ],
      "metadata": {
        "id": "9WBcnlCAHuev"
      },
      "execution_count": null,
      "outputs": []
    },
    {
      "cell_type": "code",
      "source": [
        "# Metody dla słowników\n",
        "my_dict = {'name': 'John', 'age': 30, 'city': 'New York'}\n",
        "\n",
        "# czyszczenie słownika\n",
        "my_dict.clear()\n",
        "print(my_dict)\n",
        "\n",
        "my_dict = {'name': 'John', 'age': 30, 'city': 'New York'}\n",
        "\n",
        "# kopiowanie słownika\n",
        "copy_dict = my_dict.copy()\n",
        "print(copy_dict)  # Output: {'name': 'John', 'age': 30, 'city': 'New York'}\n",
        "\n",
        "# .get('key') pobranie wartości dla 'key'\n",
        "value = my_dict.get('age')\n",
        "print(value)  # Output: 30\n",
        "\n",
        "# zwraca pary klucz: wartość\n",
        "items = my_dict.items()\n",
        "for key, value in items:\n",
        "    print(key, value)\n",
        "\n",
        "# zwraca klucze\n",
        "keys = my_dict.keys()\n",
        "for key in keys:\n",
        "    print(key)\n",
        "\n",
        "# zwraca wartości\n",
        "values = my_dict.values()\n",
        "for value in values:\n",
        "    print(value)\n",
        "\n",
        "# usuwa ze słownika parę klucz: wartość\n",
        "value = my_dict.pop('age')\n",
        "print(value)  # Output: 30\n",
        "print(my_dict)  # Output: {'name': 'John', 'city': 'New York'}\n",
        "\n",
        "# usuwa ostatnią parę klucz: wartość ze słownika i przechowuje ją jako tuple\n",
        "key, value = my_dict.popitem()\n",
        "print(key, value)\n",
        "\n",
        "other_dict = {'country': 'USA', 'gender': 'Male'}\n",
        "my_dict.update(other_dict)\n",
        "print(my_dict)\n",
        "\n",
        "value = my_dict.setdefault('occupation', 'Engineer')\n",
        "print(value)\n",
        "print(my_dict)"
      ],
      "metadata": {
        "id": "xLKoDUwrI0Wa"
      },
      "execution_count": null,
      "outputs": []
    },
    {
      "cell_type": "markdown",
      "source": [
        "# Wartości Logiczne"
      ],
      "metadata": {
        "id": "fLio2TuaiYzh"
      }
    },
    {
      "cell_type": "code",
      "source": [
        "# Wartości logiczne (0 lub 1) reprezentowane są przez przypisanie do zmiennej\n",
        "# wartości True lub False\n",
        "\n",
        "val_1 = True\n",
        "val_2 = False\n",
        "print(val_1, val_2)\n",
        "\n",
        "# koniunkcja - reprezentowana jest poprzez połączenie wartości logicznych słowem\n",
        "# 'and'\n",
        "True and True\n",
        "\n",
        "# Alternatywa - jest reprezentowana poprzez połączenie wartości logicznych słowem\n",
        "# 'or'\n",
        "True or True\n",
        "\n",
        "# Negacja - jest reprezentowana poprzez połączenie wartości logicznych słowem\n",
        "# 'not'\n",
        "True\n",
        "not True\n",
        "\n",
        "# Reprezentacja wartości logicznych\n",
        "\n",
        "print(bool(''))                   -> False\n",
        "print(bool('0.0'))                -> True\n",
        "print(bool('{}'))                 -> True\n",
        "print(bool(set()))                -> False\n",
        "print(bool(list()))               -> False\n",
        "print(bool(tuple()))              -> False\n",
        "print(bool({'key': 'val'}))       -> True\n",
        "\n"
      ],
      "metadata": {
        "id": "VuRuPKrPjfzq"
      },
      "execution_count": null,
      "outputs": []
    },
    {
      "cell_type": "markdown",
      "source": [
        "# Instrukcje warunkowe"
      ],
      "metadata": {
        "id": "Ysdl9V3gmBtH"
      }
    },
    {
      "cell_type": "code",
      "source": [
        "version = 3.11\n",
        "print(version)\n",
        "\n",
        "# Warunki\n",
        "  # >   - większe niż\n",
        "  # <   - mniejsze niż\n",
        "  # ==  - równe\n",
        "  # !=  - różne\n",
        "\n",
        "# Budowa instrukcji warunkowych\n",
        "  # if [warunek]:\n",
        "      # [instrukcje do wykonania]\n",
        "  # elif [warunek_2]:\n",
        "      # [instrukcje do wykonania]\n",
        "  # else:\n",
        "      # [instrukcje do wykonania]\n",
        "\n",
        "if version == 3.11:\n",
        "  print(\"Wersja Pythona: {}\".format(version))\n",
        "else:\n",
        "  print(\"Podnieś wersję języka Python, obecna wersja {} jest za niska.\".format(version))"
      ],
      "metadata": {
        "colab": {
          "base_uri": "https://localhost:8080/"
        },
        "id": "rSHPBCOlkbib",
        "outputId": "6ada1368-ffc6-4a46-9dc1-d49f1b94925e"
      },
      "execution_count": null,
      "outputs": [
        {
          "output_type": "stream",
          "name": "stdout",
          "text": [
            "3.11\n",
            "Wersja Pythona: 3.11\n"
          ]
        }
      ]
    },
    {
      "cell_type": "markdown",
      "source": [
        "# Pętle For"
      ],
      "metadata": {
        "id": "4e_AUmQeqIUC"
      }
    },
    {
      "cell_type": "code",
      "source": [
        "# Pętle for służą do iterowania po danych\n",
        "\n",
        "fruits = ['Orange', 'Apple', 'Banana', 'Kiwi']\n",
        "numbers = [1, 2, 3, 3, 4, 5, 6, 7]\n",
        "name = 'Jhon'\n",
        "string = 'Python Programming Language'\n",
        "hashtags = 'sport#gym#fitness#'\n",
        "\n",
        "# Pętle iterujące po zawartości listy\n",
        "for fruit in fruits:\n",
        "  print(fruit)\n",
        "\n",
        "for number in numbers:\n",
        "  print(number)\n",
        "\n",
        "for character in name:\n",
        "  print(character)\n",
        "\n",
        "for index in range(11):\n",
        "  print(index)\n",
        "\n",
        "for index in range(len(name)):\n",
        "  print('Nr indeksu: ', index, 'Litera: ', name[index])\n",
        "\n",
        "for i in enumerate(name):\n",
        "  print(i)\n",
        "\n",
        "for index, character in enumerate(name):\n",
        "  print(index, character)\n",
        "\n",
        "for i, value in enumerate([1, 2, 3, 4, 5, 6]):\n",
        "  print(i, value)\n",
        "\n",
        "for i in range(10, 21):\n",
        "  print(i)\n",
        "\n",
        "for i in range(10, 21, 2):\n",
        " print(i)\n",
        "\n",
        "for i in range(10, 0, -1):\n",
        "  print(i)\n",
        "\n",
        "for char in string[::1]:\n",
        "  print(char)\n",
        "\n",
        "result = ''\n",
        "for char in hashtags:\n",
        "  if char not in '#':\n",
        "    result = result + char\n",
        "  else:\n",
        "    print(result)\n",
        "    result = ''"
      ],
      "metadata": {
        "id": "MDVI1hMGmKex"
      },
      "execution_count": null,
      "outputs": []
    },
    {
      "cell_type": "markdown",
      "source": [
        "# Instrukcja Break"
      ],
      "metadata": {
        "id": "Y1NYB6MUl1m0"
      }
    },
    {
      "cell_type": "code",
      "source": [
        "# instrukcja break - zatrzymuje pętlę i przechodzi do następnego bloku kodu\n",
        "\n",
        "numbers = [1, 2, 3, 4, 5, 6, 7, 8, 9, 10]\n",
        "for i in numbers:\n",
        "  i = int(i)\n",
        "  if i == 5:\n",
        "    print('Zatrzymuję pętlę na liczbie {}'.format(i))\n",
        "    break\n",
        "\n",
        "print('Koniec')\n",
        "\n",
        "\n",
        "email = 'jhondoe@gmail.com'\n",
        "for char in email:\n",
        "  if char == '@':\n",
        "    print('Adres {} jest poprawny'.format(email))\n",
        "    break\n",
        "else:\n",
        "  print('Adres {} jest niepoprawny'.format(email))\n",
        "\n",
        "print('Koniec programu')"
      ],
      "metadata": {
        "id": "-_YHz6-Ks-rW"
      },
      "execution_count": null,
      "outputs": []
    },
    {
      "cell_type": "markdown",
      "source": [
        "# Instrukcja continue"
      ],
      "metadata": {
        "id": "7gVZ98s6o8nv"
      }
    },
    {
      "cell_type": "code",
      "source": [
        "# instrukcja continue - pozwala pominąć jedną wybraną iterację, a potem przechodzi\n",
        "# do następnego elementu iterowalnego w pętli\n",
        "\n",
        "# pętla natrafia na liczbę 6 to przechodzi do następnego elementu iteracji\n",
        "# liczba 6 nie jest drukowana\n",
        "\n",
        "numbers = range(10)\n",
        "for i in numbers:\n",
        "  if i == 6:\n",
        "    continue\n",
        "  print(i)\n",
        "\n",
        "for i in range(20):\n",
        "  if i % 2 == 0:\n",
        "    continue\n",
        "  print(i)\n",
        "\n",
        "sample_string = 'Python Course'\n",
        "for char in sample_string:\n",
        "  if char == ' ':\n",
        "    continue\n",
        "  print(char)"
      ],
      "metadata": {
        "id": "1NMkftgZnczr"
      },
      "execution_count": null,
      "outputs": []
    },
    {
      "cell_type": "markdown",
      "source": [
        "# Pętla while"
      ],
      "metadata": {
        "id": "JcRLMB1owY2-"
      }
    },
    {
      "cell_type": "code",
      "source": [
        "# Pętla while - pętla for z kryterium zatrzymania, wykonywać się bedzie tak długo\n",
        "# jak zdefiniowany warunek będzie miał wartość True. W przypadku, gdy warunek\n",
        "# będzie miał zawsze wartość True to program wpadnie w niekończącą się pętlę.\n",
        "\n",
        "for i in range(10):\n",
        "  while i == 5:\n",
        "    print('To jest liczba {}'.format(i))\n",
        "    break\n",
        "\n",
        "while True:\n",
        "  name = input('Podaj swoje imie: ')\n",
        "  if len(name) >= 3 and name.isalpha():\n",
        "    break\n",
        "print('Cześć {}!'.format(name))\n",
        "\n",
        "index = 0\n",
        "while index < len(search_list):\n",
        "  print(search_list[index])\n",
        "  index += 1\n",
        "\n",
        "search_list = [1, 2, 3, 4, 5]\n",
        "flag = False\n",
        "value = 3\n",
        "index = 0\n",
        "while index < len(search_list):\n",
        "  if search_list[index] == value:\n",
        "    flag = True\n",
        "    break\n",
        "  index += 1\n",
        "if flag is True:\n",
        "  print('Znaleziono element {} w liście'.format(value))"
      ],
      "metadata": {
        "id": "vbGbZD6ApYcd"
      },
      "execution_count": null,
      "outputs": []
    },
    {
      "cell_type": "markdown",
      "source": [
        "# Praca na plikach"
      ],
      "metadata": {
        "id": "TGSi9udO3aNz"
      }
    },
    {
      "cell_type": "code",
      "source": [
        "# wczytywanie plików\n",
        "\n",
        "# pierwszy argument: nazwa pliku wraz z rozszerzeniem\n",
        "# drugi argument: operacja na pliku [read, write, append]\n",
        "# 'r' - read otwiera plik do odczytu, zwraca błąd jeśli plik nie istnieje\n",
        "# 'a' - append otwiera plik do dopisania, tworzy plik jeśli nie istnieje\n",
        "# 'w' - write otwiera plik do zapisu, tworzy plik jeśli nie istnieje\n",
        "\n",
        "file = open('nazwa_pliku.txt', 'r')\n",
        "\n",
        "for line in file:\n",
        "  print(line, end='')     # parametr end='' umożliwia do przejścia do kolejnej\n",
        "                          # linii\n",
        "file.close()              # po zakończeniu pracy z plikiem należy go zamknąć\n",
        "\n",
        "with open('nazwa_pliku.txt', 'r') as file:\n",
        "  for line in file:\n",
        "    print(line, end='')\n",
        "\n",
        "with open('nazwa_pliku.txt', 'r') as file:\n",
        "  line = file.readline()\n",
        "  print(line)\n",
        "\n",
        "with open('nazwa_pliku.txt', 'r') as file:\n",
        "  lines = file.readlines()\n",
        "  print(lines)\n",
        "\n",
        "with open('nazwa_pliku.txt', 'r') as file:\n",
        "  lines = file.readlines()\n",
        "  for line in lines:\n",
        "    print(line, end='')\n",
        "\n",
        "with open('nazwa_pliku.txt', 'r') as file:\n",
        "  line = file.readline()\n",
        "  while line:\n",
        "    print(line, end='')\n",
        "    line = file.readline()\n",
        "\n",
        "\n",
        "# Zapisywanie do pliku\n",
        "# poniższy kod zapisze do pliku choinkę złożoną z *\n",
        "\n",
        "with open('tree.txt', 'w') as file:\n",
        "  for i in range(2):\n",
        "    for j in range(10):\n",
        "      print('{:>9}'.format('*' * i), end='', file=file)\n",
        "      print('{}'.format('*' * i), end='', file=file)\n"
      ],
      "metadata": {
        "id": "o9D1mSxbxCl5"
      },
      "execution_count": null,
      "outputs": []
    },
    {
      "cell_type": "markdown",
      "source": [
        "# Funkcje"
      ],
      "metadata": {
        "id": "tbaHBzhqizpb"
      }
    },
    {
      "cell_type": "code",
      "source": [
        "# Funkcje wbudowane (dostarczane wraz z główną biblioteką)\n",
        "\n",
        "# abs - zwraca wartość absolutną\n",
        "print(abs(10))\n",
        "print(abs(-10))\n",
        "\n",
        "# bool - zwraca wartość logiczną True / False\n",
        "# przydatna do sprawdzania warunków do instrukcji warunkowych if\n",
        "# lub pętli while\n",
        "print(bool([]))\n",
        "print(bool(''))\n",
        "print(bool({}))\n",
        "print(bool(' '))\n",
        "print(bool(True))\n",
        "print(bool(False))\n",
        "print(bool(0))              # przypadek szczególny, zero zwraca fałsz\n",
        "\n",
        "# dir - zwraca atrybuty i metody, które można wykonać na danym obiekcie\n",
        "#print(dir(list()))\n",
        "\n",
        "#for attribute in dir(dict()):\n",
        "#  print(attribute)\n",
        "\n",
        "# enumerate - tworzy listę tupli, gdzie na pierwszym miejscu jest index, a na\n",
        "# drugim miejscu jest wartość obiektu iterowalnego przekazanego jako argument\n",
        "# w funkcji\n",
        "print(list(enumerate(['go', 'python', ['javascript']])))\n",
        "\n",
        "# eval - wykonuje obliczenia\n",
        "x = 13\n",
        "print(eval('x + 41'))\n",
        "\n",
        "# filter - pozwala na filtrowanie danych\n",
        "\n",
        "def custom_range(start, stop):\n",
        "    result = []\n",
        "    while start <= stop:\n",
        "        result.append(start)\n",
        "        start += 1\n",
        "    return result\n",
        "\n",
        "my_range = list(custom_range(-2, 10))\n",
        "print(list(filter(abs, my_range)))\n",
        "\n",
        "# filtrowanie danych tekstowych\n",
        "print(list(filter(bool, ['python', '', 'java']))) #zwraca tylko prawdę\n",
        "\n",
        "# float - konwertuje liczbę na liczbę zmienno przecinkową\n",
        "x = 10\n",
        "print(x, type(x))\n",
        "\n",
        "y = float(x)\n",
        "print(y, type(y))\n",
        "\n",
        "# help - pomoc\n",
        "#help(float)\n",
        "\n",
        "# isinstance - sprawdza do jakiej klasy należy dany obiekt\n",
        "print(isinstance(1.0, int))\n",
        "print(isinstance(1, int))\n",
        "print(isinstance('', str))\n",
        "\n",
        "# len - zwraca długość danego elementu\n",
        "print(len('Python'))\n",
        "print(len(''))\n",
        "print(len(' '))\n",
        "print(len([]))\n",
        "print(len([1, 2, [1, 2, [3, 4, 5, [5, 3]]]]))\n",
        "\n",
        "# list - zamienia argument przesyłany w funkcji na liste\n",
        "my_list = list('python')\n",
        "print(my_list)\n",
        "\n",
        "# map - przyjmuje za 1 parametr funkcję, a za 2 obiekt iterowalny\n",
        "print(list(map(abs, [-2, -1, 0, 1, 2])))\n",
        "\n",
        "# reversed - odwraca kolejnośc w obiekcie iterowalnym\n",
        "print(list(reversed(my_list)))\n",
        "\n",
        "# round - zaokrągla\n",
        "print(round(4.323245566654, 2))\n",
        "\n",
        "# string - przekształca na tekst\n",
        "x = 10\n",
        "y = str(x)\n",
        "print(type(y))\n",
        "\n",
        "# sum - sumuje\n",
        "print(sum([1, 2, 3]))\n",
        "\n",
        "# zip - łączy dwa obiekty iterowalne i zwraca tuple\n",
        "list_1 = [1, 2, 3, 4]\n",
        "list_2 = [5, 6, 7, 8]\n",
        "print(list(zip(list_1, list_2)))\n"
      ],
      "metadata": {
        "id": "ITjtgdhCgzK6"
      },
      "execution_count": null,
      "outputs": []
    },
    {
      "cell_type": "code",
      "source": [
        "# definiowanie własnych funkcji\n",
        "\n",
        "# def [nazwa_funkcji]([argumenty_funkcji - opcjonalnie]):\n",
        "#   [instrukcje funkcji]\n",
        "\n",
        "def funkcja_nr_1(arg):\n",
        "  print('Pierwsza funkcja {}'.format(arg))\n",
        "\n",
        "funkcja_nr_1('yaay')\n",
        "\n",
        "def add(x: int, y: int):\n",
        "  return x + y\n",
        "\n",
        "add(2, 2)\n",
        "\n"
      ],
      "metadata": {
        "id": "Ia3VPkGxjTZn",
        "colab": {
          "base_uri": "https://localhost:8080/"
        },
        "outputId": "f7ed2372-3205-4c11-fd3f-b7dc7cf471ce"
      },
      "execution_count": null,
      "outputs": [
        {
          "output_type": "stream",
          "name": "stdout",
          "text": [
            "Pierwsza funkcja yaay\n"
          ]
        },
        {
          "output_type": "execute_result",
          "data": {
            "text/plain": [
              "4"
            ]
          },
          "metadata": {},
          "execution_count": 5
        }
      ]
    },
    {
      "cell_type": "code",
      "source": [
        "# wyrażenia lambda - funkcje zdefiniowane w jednej linijce kodu\n",
        "\n",
        "# klasyczne zdefiniowanie funkcji\n",
        "def parabola(x):\n",
        "  return x**2 + 3\n",
        "\n",
        "function_variable = parabola\n",
        "print(function_variable(30))\n",
        "print(type(function_variable(30)))\n",
        "\n",
        "# funkcje zapisana jako wyrażenie lambda\n",
        "lambda_variable = lambda x: x**2 + 3\n",
        "print(lambda_variable(30))\n",
        "print(type(lambda_variable(30)))\n",
        "\n",
        "hello_lambda = lambda word_1, word_2: word_1 + ' ' + word_2\n",
        "print(hello_lambda('Hello', 'World'))\n",
        "\n",
        "# lambda\n",
        "programming_languages = ['python', 'java', 'C++', 'C#', 'go']\n",
        "print(list(map(lambda word: word.upper(), programming_languages)))\n",
        "\n",
        "# rozwiązanie najkrótsze\n",
        "print(list(map(str.upper, programming_languages)))\n",
        "\n",
        "# klasycznie\n",
        "def make_upper(word):\n",
        "  return word.upper()\n",
        "\n",
        "print(list(map(make_upper, programming_languages)))\n",
        "\n",
        "# przykłady\n",
        "print(list(map(lambda word: word.title(), programming_languages)))\n",
        "print(list(map(lambda word: (word, len(word)), programming_languages)))\n",
        "\n",
        "def apply_func(x, fn):\n",
        "  return fn(x)\n",
        "\n",
        "x = apply_func(5, lambda x: x**2)\n",
        "y = apply_func([12, 5], lambda x: sum(x))\n",
        "print(x, y)\n",
        "\n",
        "numbers = [-1, -2, -3, 5, 7, 8, 1, 2, 4, 3]\n",
        "print(sorted(numbers, key=lambda x: abs(x)))\n"
      ],
      "metadata": {
        "id": "kDM6285YMnO3",
        "colab": {
          "base_uri": "https://localhost:8080/"
        },
        "outputId": "97fa3fe1-2605-4e86-86a6-aa9389fe6573"
      },
      "execution_count": null,
      "outputs": [
        {
          "output_type": "stream",
          "name": "stdout",
          "text": [
            "903\n",
            "<class 'int'>\n",
            "903\n",
            "<class 'int'>\n",
            "Hello World\n",
            "['PYTHON', 'JAVA', 'C++', 'C#', 'GO']\n",
            "['PYTHON', 'JAVA', 'C++', 'C#', 'GO']\n",
            "['PYTHON', 'JAVA', 'C++', 'C#', 'GO']\n",
            "['Python', 'Java', 'C++', 'C#', 'Go']\n",
            "[('python', 6), ('java', 4), ('C++', 3), ('C#', 2), ('go', 2)]\n",
            "25 17\n",
            "[-1, 1, -2, 2, -3, 3, 4, 5, 7, 8]\n"
          ]
        }
      ]
    },
    {
      "cell_type": "markdown",
      "source": [
        "# Dowolna liczba argumentów - *args\n"
      ],
      "metadata": {
        "id": "n08IYaabmTj3"
      }
    },
    {
      "cell_type": "code",
      "source": [
        "# *args\n",
        "def test_args(x, *args):\n",
        "  print('Pierwszy argument: {}'.format(x))\n",
        "  for arg in args:\n",
        "    print('Kolejne argumenty: {}'.format(arg))\n",
        "\n",
        "test_args(1, 2, 3, 4, 5)\n",
        "\n",
        "def suma_dow_liczby_args(*args):\n",
        "  return sum(args)\n",
        "\n",
        "suma_dow_liczby_args(1, 2, 3, 4)"
      ],
      "metadata": {
        "colab": {
          "base_uri": "https://localhost:8080/"
        },
        "id": "_16xVMeMeM1k",
        "outputId": "2d942ed8-7fda-4090-b811-21cfdb6907c2"
      },
      "execution_count": null,
      "outputs": [
        {
          "output_type": "stream",
          "name": "stdout",
          "text": [
            "Pierwszy argument: 1\n",
            "Kolejne argumenty: 2\n",
            "Kolejne argumenty: 3\n",
            "Kolejne argumenty: 4\n",
            "Kolejne argumenty: 5\n"
          ]
        },
        {
          "output_type": "execute_result",
          "data": {
            "text/plain": [
              "10"
            ]
          },
          "metadata": {},
          "execution_count": 19
        }
      ]
    },
    {
      "cell_type": "markdown",
      "source": [
        "# Dowolna liczba argumentów - **kwargs"
      ],
      "metadata": {
        "id": "1KDWE3HAnIte"
      }
    },
    {
      "cell_type": "code",
      "source": [
        "# **kwargs - keyword arguments - argumenty z nazwą\n",
        "\n",
        "def kwarg_function(**kwargs):\n",
        "  print(kwargs)\n",
        "\n",
        "kwarg_function(key1=10, key2=20)"
      ],
      "metadata": {
        "colab": {
          "base_uri": "https://localhost:8080/"
        },
        "id": "EN7Vsktem15G",
        "outputId": "a53f06df-5239-4786-cf7e-a8e187372d94"
      },
      "execution_count": null,
      "outputs": [
        {
          "output_type": "stream",
          "name": "stdout",
          "text": [
            "{'key1': 10, 'key2': 20}\n"
          ]
        }
      ]
    },
    {
      "cell_type": "markdown",
      "source": [
        "# Zakresy zmiennych - global, local, nonlocal"
      ],
      "metadata": {
        "id": "lvm47G-PoxXb"
      }
    },
    {
      "cell_type": "code",
      "source": [
        "# Global - w języku python zakres globalny zmiennej jest definiowany poza funkcją\n",
        "# klasą lub przy użyciu słowa 'global' przed nazwą zmiennej. Dostęp do zmiennej\n",
        "# globalnej może nastąpić z dowolnego miejsca w kodzie.\n",
        "\n",
        "# Local - w języku python zakres lokalny zmiennej jest definiowany w funkcji,\n",
        "# lub bloku kodu.\n",
        "\n",
        "\n",
        "# przykład zmiennej globalnej\n",
        "global_var = 5  # Zmienna globalna\n",
        "\n",
        "def my_function_1():\n",
        "    global_var = 10    # Lokalna zmienna o nazwie tożsamej co zmienna globalna\n",
        "    print(global_var)  # Zwróci wartość zmiennej lokalnej (patrz powyżej)\n",
        "\n",
        "my_function_1()          # Wyprintuje wartość zmiennej lokalnej z ciała funkcji (10)\n",
        "\n",
        "print(global_var)  # Zwróci wartość zmiennej globalnej zdefiniowanej przed funkcją\n",
        "\n",
        "\n",
        "# przykład zmiennej lokalnej\n",
        "def my_function_2():\n",
        "    local_var = 10  # Zmienna lokalna\n",
        "    print(local_var)\n",
        "\n",
        "my_function_2()  # Zwróci wartość zmiennej lokalnej\n",
        "\n",
        "#print(local_var)   # Dostaniemy błąd NameError, bo zmienna istnieje tylko\n",
        "                    # w czasie wykonywania funkcji\n",
        "\n",
        "# Nonlocal - w języku python zmienna nonlocal jest to zmienna zdefiniowana w\n",
        "# ciele funkcji rodzica. Dostęp do zmiennej w funkcji zagnieżdżonej jest przy użyciu\n",
        "# słowa 'nonlocal' przed nazwą funkcji. Taki zabieg stosuje się po to, aby funkcja\n",
        "# zagnieżdżona miała dostęp do zmiennej zdefiniowanej w ciele funkcji rodzica.\n",
        "\n",
        "# przykład zmiennej nonlocal\n",
        "def outer_function():\n",
        "    outer_var = 10  # Zmienna lokalna funkcji rodzica\n",
        "    print(outer_var)\n",
        "\n",
        "    def inner_function():\n",
        "        nonlocal outer_var  # Deklaracja dosępu do outer_var w wewnętrznej funkcji\n",
        "        outer_var = 20  # Modyfikacja outer_var\n",
        "        print(outer_var)  # Wynik: 20\n",
        "\n",
        "    inner_function()\n",
        "    print(outer_var)  # Wynik: 20 (zmienna outer_var została zmodyfikowana przez\n",
        "                      # wywołanie funkcji inner_function())\n",
        "\n",
        "outer_function()\n",
        "\n"
      ],
      "metadata": {
        "id": "-gDFl1nNn5NG"
      },
      "execution_count": null,
      "outputs": []
    },
    {
      "cell_type": "markdown",
      "source": [
        "# Generatory"
      ],
      "metadata": {
        "id": "054Sf2ijnQjq"
      }
    },
    {
      "cell_type": "code",
      "source": [
        "# Generatory - to funkcje, które zwracają nam obiekt generator, po którym można\n",
        "# iterować.\n",
        "\n",
        "# przykład generatora\n",
        "def generator():\n",
        "  yield 4\n",
        "  yield 5\n",
        "\n",
        "gen = generator()\n",
        "\n",
        "for i in gen:\n",
        "  print(i)\n",
        "\n",
        "def generator_2(word):\n",
        "  letters_list = list(word)\n",
        "  for letter in letters_list:\n",
        "    yield letter\n",
        "\n",
        "gen_2 = generator_2('python')\n",
        "for letter in gen_2:\n",
        "  print(letter)\n",
        ""
      ],
      "metadata": {
        "id": "Uc5Vq6tDkSWw"
      },
      "execution_count": null,
      "outputs": []
    },
    {
      "cell_type": "code",
      "source": [],
      "metadata": {
        "id": "JBXgc4N_oEAF"
      },
      "execution_count": null,
      "outputs": []
    }
  ]
}