{
  "nbformat": 4,
  "nbformat_minor": 0,
  "metadata": {
    "colab": {
      "provenance": [],
      "toc_visible": true,
      "authorship_tag": "ABX9TyMjBC0FP77QCzldd+YLLGiP",
      "include_colab_link": true
    },
    "kernelspec": {
      "name": "python3",
      "display_name": "Python 3"
    },
    "language_info": {
      "name": "python"
    }
  },
  "cells": [
    {
      "cell_type": "markdown",
      "metadata": {
        "id": "view-in-github",
        "colab_type": "text"
      },
      "source": [
        "<a href=\"https://colab.research.google.com/github/TheDylong/googleCollab/blob/main/Python.ipynb\" target=\"_parent\"><img src=\"https://colab.research.google.com/assets/colab-badge.svg\" alt=\"Open In Colab\"/></a>"
      ]
    },
    {
      "cell_type": "markdown",
      "source": [
        "Konwencja nazewnicza"
      ],
      "metadata": {
        "id": "Wx41_wf1uXg6"
      }
    },
    {
      "cell_type": "code",
      "execution_count": null,
      "metadata": {
        "id": "FqQS_oR1WbsB"
      },
      "outputs": [],
      "source": [
        "# zmienne piszemy z małej litery, np.:\n",
        "name = 'Peter'\n",
        "_name = 'Jhon'\n",
        "\n",
        "# używamy mnemomicznych nazw zmiennych, aby łatwiej rozumieć kod, np.:\n",
        "hours_worked = 8\n",
        "hour_wage = 20\n",
        "daily_wahe = hours_worked * hour_wage\n",
        "\n",
        "# style pisania camelCase, PascalCase, snake_case, kebab-case itd. itp\n",
        "camelCase = 'Python'\n",
        "PascalCase  = 'Python'\n",
        "snake_case  = 'Python'        # używamy do nazewnictwa metod i zmiennych\n",
        "kebab-case  = 'Python'\n",
        "UPPER  = 'Python'             # do przechowywania stałych\n",
        "\n",
        "# nazwy zarezerwowane dla Pythona, np.:\n",
        "\n",
        "import keyword\n",
        "keyword.kwlist                # zwraca wszystkie nazwy, które nie można używać\n",
        "                              # do nazywania zmiennych"
      ]
    },
    {
      "cell_type": "markdown",
      "source": [
        "Operator wycinania"
      ],
      "metadata": {
        "id": "gNSAJSzNwWUL"
      }
    },
    {
      "cell_type": "code",
      "source": [
        "# wycinanmy z tekstu poszczególne elementy\n",
        "# przy pomocy indeksów zawsze zaczynamy od [0]\n",
        "name = 'Python'\n",
        "print(name[0])\n",
        "\n",
        "# wycinanie od 'końca' zaczynamy od [-1]\n",
        "print(name[-1])\n",
        "\n",
        "# wycinanie ciąg znaków od - do\n",
        "# name[0:n] - od 1 znaku kolejne n\n",
        "# name[1:4] - od 2 znaku kolejne 4\n",
        "# name[2:]  - od 2 znaku do końca\n",
        "# name[::2] - od początku co drugi znak\n",
        "\n",
        "print(name[0:2]) # zwróci Py\n",
        "print(name[0:3]) # zwróci Pyt\n",
        "print(name[1:4]) # zwróci yth\n",
        "print(name[2:])  # zwróci thon\n",
        "print(name[:])   # zwróci Python"
      ],
      "metadata": {
        "id": "4dxhgt4uwY0N"
      },
      "execution_count": null,
      "outputs": []
    },
    {
      "cell_type": "markdown",
      "source": [
        "Typy danych"
      ],
      "metadata": {
        "id": "DCG2dVQJ1pNf"
      }
    },
    {
      "cell_type": "code",
      "source": [
        "# string - tekst\n",
        "string = 'tekst'\n",
        "type(string)\n",
        "\n",
        "# int - integer - liczba całkowita\n",
        "number = 15\n",
        "type(number)\n",
        "\n",
        "# zmienno-przecinkowe (float)\n",
        "float_number = 15.65\n",
        "type(float_number)\n",
        "\n",
        "# liczby zespolone (complex)\n",
        "complex_number = 3 + 3j\n",
        "type(complex_number)\n",
        "\n",
        "# Logika boole-owska\n",
        "bolean = True\n",
        "type(bolean)\n"
      ],
      "metadata": {
        "colab": {
          "base_uri": "https://localhost:8080/"
        },
        "id": "GW8OIFzzxwjG",
        "outputId": "22344098-e1be-425a-a965-847388a3dcd1"
      },
      "execution_count": 9,
      "outputs": [
        {
          "output_type": "execute_result",
          "data": {
            "text/plain": [
              "bool"
            ]
          },
          "metadata": {},
          "execution_count": 9
        }
      ]
    },
    {
      "cell_type": "code",
      "source": [],
      "metadata": {
        "id": "4_ZzYtU65PSv"
      },
      "execution_count": null,
      "outputs": []
    }
  ]
}