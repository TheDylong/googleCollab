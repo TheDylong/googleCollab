{
  "nbformat": 4,
  "nbformat_minor": 0,
  "metadata": {
    "colab": {
      "provenance": [],
      "toc_visible": true,
      "authorship_tag": "ABX9TyOh32fP0iCYjiHIOhMGJeAc",
      "include_colab_link": true
    },
    "kernelspec": {
      "name": "python3",
      "display_name": "Python 3"
    },
    "language_info": {
      "name": "python"
    }
  },
  "cells": [
    {
      "cell_type": "markdown",
      "metadata": {
        "id": "view-in-github",
        "colab_type": "text"
      },
      "source": [
        "<a href=\"https://colab.research.google.com/github/TheDylong/googleCollab/blob/main/Python.ipynb\" target=\"_parent\"><img src=\"https://colab.research.google.com/assets/colab-badge.svg\" alt=\"Open In Colab\"/></a>"
      ]
    },
    {
      "cell_type": "markdown",
      "source": [
        "# Konwencja nazewnicza"
      ],
      "metadata": {
        "id": "RRW_irDEODem"
      }
    },
    {
      "cell_type": "code",
      "execution_count": null,
      "metadata": {
        "id": "FqQS_oR1WbsB"
      },
      "outputs": [],
      "source": [
        "# zmienne piszemy z małej litery, np.:\n",
        "name = 'Peter'\n",
        "_name = 'Jhon'\n",
        "\n",
        "# używamy mnemomicznych nazw zmiennych, aby łatwiej rozumieć kod, np.:\n",
        "hours_worked = 8\n",
        "hour_wage = 20\n",
        "daily_wahe = hours_worked * hour_wage\n",
        "\n",
        "# style pisania camelCase, PascalCase, snake_case, kebab-case itd. itp\n",
        "camelCase = 'Python'\n",
        "PascalCase  = 'Python'        # używamy do nazewnictwa klas\n",
        "snake_case  = 'Python'        # używamy do nazewnictwa metod i zmiennych\n",
        "kebab-case  = 'Python'\n",
        "UPPER  = 'Python'             # do przechowywania stałych\n",
        "\n",
        "# nazwy zarezerwowane dla Pythona, np.:\n",
        "\n",
        "import keyword\n",
        "keyword.kwlist                # zwraca wszystkie nazwy, których nie można używać\n",
        "                              # do nazywania zmiennych"
      ]
    },
    {
      "cell_type": "markdown",
      "source": [
        "# String slicing [operator wycinania]"
      ],
      "metadata": {
        "id": "dTSWb2W0xtnC"
      }
    },
    {
      "cell_type": "code",
      "source": [
        "# wycinanmy z tekstu poszczególne elementy\n",
        "# przy pomocy indeksów zawsze zaczynamy od [0]\n",
        "name = 'Python'\n",
        "print(name[0])\n",
        "\n",
        "# wycinanie od 'końca' zaczynamy od [-1]\n",
        "print(name[-1])\n",
        "\n",
        "# wycinanie ciąg znaków od - do\n",
        "# name[0:n] - od 1 znaku kolejne n\n",
        "# name[1:4] - od 2 znaku kolejne 4\n",
        "# name[2:]  - od 2 znaku do końca\n",
        "# name[::2] - od początku co drugi znak\n",
        "\n",
        "print(name[0:2]) # zwróci Py\n",
        "print(name[0:3]) # zwróci Pyt\n",
        "print(name[1:4]) # zwróci yth\n",
        "print(name[2:])  # zwróci thon\n",
        "print(name[:])   # zwróci Python"
      ],
      "metadata": {
        "id": "4dxhgt4uwY0N"
      },
      "execution_count": null,
      "outputs": []
    },
    {
      "cell_type": "markdown",
      "source": [
        "# Typy danych"
      ],
      "metadata": {
        "id": "yb2xHyYYx207"
      }
    },
    {
      "cell_type": "code",
      "source": [
        "# string - tekst\n",
        "string = 'tekst'\n",
        "type(string)\n",
        "\n",
        "# int - integer - liczba całkowita\n",
        "number = 15\n",
        "type(number)\n",
        "\n",
        "# zmienno-przecinkowe (float)\n",
        "float_number = 15.65\n",
        "type(float_number)\n",
        "\n",
        "# liczby zespolone (complex)\n",
        "complex_number = 3 + 3j\n",
        "type(complex_number)\n",
        "\n",
        "# Logika boole-owska\n",
        "bolean = True\n",
        "type(bolean)\n"
      ],
      "metadata": {
        "id": "GW8OIFzzxwjG"
      },
      "execution_count": null,
      "outputs": []
    },
    {
      "cell_type": "markdown",
      "source": [
        "# Dane tekstowe i metody (na obiektach typu string)"
      ],
      "metadata": {
        "id": "pLF5y9eAx8RO"
      }
    },
    {
      "cell_type": "code",
      "source": [
        "text = 'przykładowe zdanie'\n",
        "\n",
        "# zwraca dostępne metody dla zmiennej text\n",
        "dir(text)\n",
        "\n",
        "# opis metody (pomoc)\n",
        "help(str.count)\n",
        "\n",
        "# przykładowe metody dla obiektów typu string\n",
        "print(text.capitalize())          # rozpoczyna string z dużej litery\n",
        "print(text.title())               # każde słowo w stringu z dużej litery\n",
        "print(text.count('zdanie'))       # zlicza ile danych ciągów znaków jest\n",
        "                                  # zapisanych w zmniennych (NoneType)\n",
        "print(text.startswith('p'))       # zwraca wartość True or False\n",
        "print('python'.startswith('py'))\n",
        "print(text.endswith('e'))         # zwraca True or False\n",
        "                                  # przydatne do weryfikacji czy np.:\n",
        "                                  # dane pliki mają rozszerzenie .py\n",
        "print(text.find('przykładowe'))   # zwraca nr indeksu, od którego\n",
        "                                  # zaczyna się dane słowo\n",
        "\n",
        "# metody przydatne do walidacji danych wejściowych podawanych przez użytkownika\n",
        "print(text.isalnum())\n",
        "print(text.isdigit())\n",
        "print(text.islower())\n",
        "print(text.isupper())\n",
        "\n",
        "# łączenie ciągów znaków przekazanych w formie listy\n",
        "print(' '.join(['python', '3.11']))  # łączenie z ' '\n",
        "print('#'.join(['python', '3.11']))  # łączenie z '#'\n",
        "print(','.join(['python', '3.11']))  # łączenie z ',' Comma Separeted Value (CSV)\n",
        "\n",
        "# zamienianie ciągów znaków\n",
        "print('#python#learning'.replace('#', ' '))\n",
        "print('column name'.replace(' ', '_'))\n",
        "\n",
        "# wycinanie białych znaków\n",
        "print('  python  ')\n",
        "print('  python  '.strip())\n",
        "print('  python   '.rstrip())\n",
        "print('  python   '.lstrip())\n",
        "print('#python#learning'.replace('#', ' ').lstrip())\n",
        "\n",
        "# rozdzielanie znakiem przedziału, zwraca listę\n",
        "print('1,2,3,4,5'.split(','))\n"
      ],
      "metadata": {
        "id": "4_ZzYtU65PSv"
      },
      "execution_count": null,
      "outputs": []
    },
    {
      "cell_type": "markdown",
      "source": [
        "# Zbiory w języku python"
      ],
      "metadata": {
        "id": "kOqk5-Qfx_Y2"
      }
    },
    {
      "cell_type": "code",
      "source": [
        "# zbiory to struktura danych, która przechowuje nieuporządkowany ciąg elementów\n",
        "# wartości pojawiające się w zbiorze są niezduplikowane\n",
        "\n",
        "# zdefiniowanie pustego wzoru oraz sprawdzenie jego typu\n",
        "empty_set = set()\n",
        "print(empty_set)\n",
        "print(type(empty_set))\n",
        "\n",
        "# zdefiniowanej zmiennej zawierającej zbiór oraz sprawdzenie typu zmiennej\n",
        "programming_languages = {'python', 'java', 'c++'}\n",
        "print(programming_languages)\n",
        "print(type(programming_languages))\n",
        "\n",
        "# zwraca długośc zbioru (funkcja len) [ile ma elementów]\n",
        "print(len(programming_languages))\n",
        "\n",
        "# generowanie zbiorów przy użyciu set()\n",
        "print(set('python'))        # każdy 'python' znak jest osobnym elementem zbioru\n",
        "print(set('pythonpython'))  # nieduplikuje znaków w zbiorze\n",
        "\n",
        "# iteracja po zbiorze (True/False)\n",
        "print('python' in programming_languages)\n",
        "print('go' in programming_languages)\n",
        "\n",
        "# dodawanie elementu do zbioru\n",
        "programming_languages.add('go')\n",
        "print(programming_languages)\n",
        "\n",
        "# usuwanie elementu ze zbioru\n",
        "programming_languages.remove('go')\n",
        "print(programming_languages)\n",
        "\n",
        "# usunięcie jednego elementu ze zbioru (dowolnego)\n",
        "programming_languages.pop()\n",
        "print(programming_languages)\n",
        "\n",
        "# wyczyszczenie zbioru\n",
        "programming_languages.clear()\n",
        "print(programming_languages)\n",
        "\n",
        "# suma zbiorów\n",
        "numeric_set_A = {1, 2, 3, 4, 5, 6, 7}\n",
        "numeric_set_B = {5, 6, 7, 8, 9}\n",
        "numeric_set_C = {5, 6}\n",
        "\n",
        "# sprawdzenie czy zbiór C zawiera się w zbiorze A (True/False)\n",
        "print(numeric_set_C.issubset(numeric_set_A))\n",
        "\n",
        "# sprawdzenie czy zbiór A jest nadzbiorem zbioru C/B (True/False)\n",
        "print(numeric_set_A.issuperset(numeric_set_B))\n",
        "\n",
        "# suma zbiorów\n",
        "print(numeric_set_A.union(numeric_set_B))\n",
        "\n",
        "# przecięcie zbiorów A i B\n",
        "print(numeric_set_A.intersection(numeric_set_B))\n",
        "\n",
        "# różnica symetryczna zbiorów A i B\n",
        "print(numeric_set_A.symmetric_difference(numeric_set_B))\n",
        "\n",
        "# kopiowanie zbioru\n",
        "numeric_set_D = numeric_set_A.copy()\n",
        "print(numeric_set_D)\n"
      ],
      "metadata": {
        "id": "UmC2CzefOT83"
      },
      "execution_count": null,
      "outputs": []
    },
    {
      "cell_type": "markdown",
      "source": [
        "# Tuple"
      ],
      "metadata": {
        "id": "aQpnjnE3yCZz"
      }
    },
    {
      "cell_type": "markdown",
      "source": [
        "Różnice pomiędzy tuplami, a listami\n",
        "\n",
        "1. Mutowalność (Mutalibity): tuple w języku python są niemutowalne\n",
        "(niezmienialne). Raz utworzone nie mogą zostać zmienione. Z kolei listy zą mutowalne (zmienialne), na listach mozna dokonywać szeregów zmian\n",
        "\n",
        "2. Składnia: tuple są definiowane nawiasami okrągłymi () lub bez, przedzielone przecinkami. Listy są definiowane nawiasami kwadratowymi []\n",
        "\n",
        "*   my_tuple = (1, 2, 3)\n",
        "*   my_tuple = 1, 2, 3\n",
        "*   my_list = [1, 2, 3]\n",
        "\n",
        "3. Zastosowanie: Tuple są używane do przechowywania kolekcji elementów, które nie powinny być zmieniane (np.: rekordy baz danych lub argumenty funkcji). Zapewniają niezmienialność i mogą być używane jako klucze słowników. Listy są do przechowywania wartości, na których będziemy pracować i mogą być zmieniane dynamicznie.\n",
        "\n",
        "4. Osiągi: tuple sa bardziej wydajne od list, ponieważ potrzebują mniej pamięci.\n",
        "Natomiast kiedy przychodzi do modyfikowania struktury (np.: dodawanie, usuwanie elementów) listy są szybsze\n",
        "\n",
        "Podsumowując: tuple są niemutowalne, definiowane () lub \",\" , a listy są mutowalne i definiowane []. Tuple są przydatne do przechowywania stałego danych (np.: już przetworzonych), a listy są lepsze do przeprowadzania operacji na danych."
      ],
      "metadata": {
        "id": "MUTsRo9l0jGZ"
      }
    },
    {
      "cell_type": "code",
      "source": [
        "# uporządkowana struktura, której nie można zmieniać\n",
        "\n",
        "# pusta tupla\n",
        "empty_tuple = tuple()\n",
        "print(empty_tuple)\n",
        "\n",
        "# przykładowe tuple\n",
        "bitcoin = ('Bitcoin', 'BTC', 26000)\n",
        "etherum = ('Etherum', 'ETH', 7000)\n",
        "\n",
        "\n",
        "# indeksowanie tupli i przypisanie do zmiennych poszczególnych elementów\n",
        "\n",
        "currency_name = bitcoin[0]\n",
        "currency_name_abbreviation = bitcoin[1]\n",
        "currency_price = bitcoin[2]\n",
        "print(\"Name: {}\\nAbbreviation: {}\\nPrice: {}\".format(currency_name,\n",
        "                                                     currency_name_abbreviation,\n",
        "                                                     currency_price))\n",
        "\n",
        "# zagnieżdżanie tupli\n",
        "data = (bitcoin, etherum)\n",
        "print(data)\n",
        "print(data[0])\n",
        "print(data[1])\n",
        "\n",
        "nested = 'Europa', 'Polska', ('Warszawa', 'Kraków', 'Wrocław')\n",
        "print(nested)\n",
        "\n",
        "# deklaracja wielu tupli w jednej linii\n",
        "id, name, surname = ('001', 'Jhon', 'Doe')\n",
        "print(id)\n",
        "print(name)\n",
        "print(surname)\n",
        "\n",
        "# zmiana wartości zmiennych\n",
        "a, b = 10, 15\n",
        "print(a, b)\n",
        "a, b = b, a\n",
        "print(a, b)\n"
      ],
      "metadata": {
        "id": "MoR1shcNyHA0"
      },
      "execution_count": null,
      "outputs": []
    },
    {
      "cell_type": "markdown",
      "source": [
        "# Listy"
      ],
      "metadata": {
        "id": "jN_q9X32Ret9"
      }
    },
    {
      "cell_type": "markdown",
      "source": [
        "Listy to uporządkowana, zmienialna struktura danych, która może posiadać zdublowane elementy"
      ],
      "metadata": {
        "id": "JDV0e4siRiMk"
      }
    },
    {
      "cell_type": "code",
      "source": [
        "# zdefiniowanie pustej listy\n",
        "empty_list = []\n",
        "print(type(empty_list))\n",
        "\n",
        "# przykładowa lista\n",
        "programming_languages = ['python', 'java', 'C++', 'C#', 'go']\n",
        "numbers = [0, 3, 3, 4, 10, 5]\n",
        "mixed = ['python', 3.11, 'java', 11, True]\n",
        "\n",
        "# zmiana wartości listy\n",
        "programming_languages[0] = 'python 3.11'\n",
        "\n",
        "# zagnieżdżanie listy\n",
        "nested_list = [programming_languages, numbers, mixed]\n",
        "print(nested_list)\n",
        "\n",
        "# łączenie list\n",
        "programming_languages = ['python', 'java', 'C++', 'C#', 'go']\n",
        "programming_languages += ['javascript']\n",
        "print(programming_languages)\n",
        "\n",
        "# metody dla list\n",
        "#print(dir(list))\n",
        "\n",
        "# wycinanie list\n"
      ],
      "metadata": {
        "colab": {
          "base_uri": "https://localhost:8080/"
        },
        "id": "DF40CvHCRhbj",
        "outputId": "0cb6ce84-3d6f-4986-c7c5-7af416e3a0cc"
      },
      "execution_count": 25,
      "outputs": [
        {
          "output_type": "stream",
          "name": "stdout",
          "text": [
            "<class 'list'>\n",
            "[['python 3.11', 'java', 'C++', 'C#', 'go'], [0, 3, 3, 4, 10, 5], ['python', 3.11, 'java', 11, True]]\n",
            "['python', 'java', 'C++', 'C#', 'go', 'javascript']\n"
          ]
        }
      ]
    },
    {
      "cell_type": "code",
      "source": [],
      "metadata": {
        "id": "2pE6Rg31yVjC"
      },
      "execution_count": null,
      "outputs": []
    }
  ]
}